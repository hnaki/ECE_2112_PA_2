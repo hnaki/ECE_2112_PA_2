{
 "cells": [
  {
   "cell_type": "code",
   "execution_count": 9,
   "id": "457973a9-e94a-405b-a21d-fb4fa2521102",
   "metadata": {},
   "outputs": [
    {
     "name": "stdout",
     "output_type": "stream",
     "text": [
      "Original ndarray:\n",
      "[[0.6519209  0.32208888 0.26351102 0.48537945 0.10145817]\n",
      " [0.38849013 0.09089227 0.06008886 0.83025871 0.94834552]\n",
      " [0.31662079 0.5928241  0.81274523 0.44333557 0.25893147]\n",
      " [0.89221795 0.24531984 0.12102289 0.0941334  0.47096847]\n",
      " [0.94837712 0.69666637 0.23504056 0.98867808 0.1935909 ]]\n",
      "\n",
      "Normalized ndarray:\n",
      "[[ 0.64158973 -0.45031832 -0.64424014  0.0902547  -1.18071569]\n",
      " [-0.23049715 -1.21569407 -1.31766868  1.23197658  1.62290265]\n",
      " [-0.46842039  0.44594993  1.17399825 -0.04893145 -0.65940074]\n",
      " [ 1.43709249 -0.70446201 -1.11594674 -1.20496433  0.04254719]\n",
      " [ 1.62300728  0.7897195  -0.73849155  1.75642349 -0.87571052]]\n"
     ]
    }
   ],
   "source": [
    "#Import the numpy file\n",
    "import numpy as np\n",
    "\n",
    "# Create a random 5x5 ndarray\n",
    "X = np.random.rand(5, 5)\n",
    "\n",
    "# Calculate the mean and standard deviation of the ndarray\n",
    "mean_X = X.mean()\n",
    "std_X = X.std()\n",
    "\n",
    "# Normalize the ndarray\n",
    "X_normal = (X - mean_X) / std_X\n",
    "\n",
    "# Save the normalized ndarray to a file\n",
    "np.save('X_normalized.npy', X_normal)\n",
    "\n",
    "#Example Output:\n",
    "print(\"Original ndarray:\")\n",
    "print(X)\n",
    "print(\"\\nNormalized ndarray:\")\n",
    "print(X_normal)"
   ]
  },
  {
   "cell_type": "code",
   "execution_count": 3,
   "id": "e88f1d2e-f100-44d8-a457-86aa9ecdc4f8",
   "metadata": {},
   "outputs": [
    {
     "name": "stdout",
     "output_type": "stream",
     "text": [
      "Original ndarray:\n",
      "[[    1     4     9    16    25    36    49    64    81   100]\n",
      " [  121   144   169   196   225   256   289   324   361   400]\n",
      " [  441   484   529   576   625   676   729   784   841   900]\n",
      " [  961  1024  1089  1156  1225  1296  1369  1444  1521  1600]\n",
      " [ 1681  1764  1849  1936  2025  2116  2209  2304  2401  2500]\n",
      " [ 2601  2704  2809  2916  3025  3136  3249  3364  3481  3600]\n",
      " [ 3721  3844  3969  4096  4225  4356  4489  4624  4761  4900]\n",
      " [ 5041  5184  5329  5476  5625  5776  5929  6084  6241  6400]\n",
      " [ 6561  6724  6889  7056  7225  7396  7569  7744  7921  8100]\n",
      " [ 8281  8464  8649  8836  9025  9216  9409  9604  9801 10000]]\n",
      "\n",
      "Elements divisible by 3:\n",
      "[   9   36   81  144  225  324  441  576  729  900 1089 1296 1521 1764\n",
      " 2025 2304 2601 2916 3249 3600 3969 4356 4761 5184 5625 6084 6561 7056\n",
      " 7569 8100 8649 9216 9801]\n"
     ]
    }
   ],
   "source": [
    "#Import the numpy file\n",
    "import numpy as np\n",
    "\n",
    "# Create a 10x10 ndarray of squares of the first 100 positive integers\n",
    "A = (np.arange(1, 101) ** 2).reshape(10, 10)\n",
    "\n",
    "# Find the elements that are divisible by 3\n",
    "div_by_3 = A[A % 3 == 0]\n",
    "\n",
    "# Save the result to a file\n",
    "np.save('div_by_3.npy', div_by_3)\n",
    "\n",
    "#Example Output\n",
    "print(\"Original ndarray:\")\n",
    "print(A)\n",
    "print(\"\\nElements divisible by 3:\")\n",
    "print(div_by_3)"
   ]
  },
  {
   "cell_type": "code",
   "execution_count": null,
   "id": "d16b3379-f69c-4a29-a51e-f1e9834137a4",
   "metadata": {},
   "outputs": [],
   "source": []
  }
 ],
 "metadata": {
  "kernelspec": {
   "display_name": "Python 3 (ipykernel)",
   "language": "python",
   "name": "python3"
  },
  "language_info": {
   "codemirror_mode": {
    "name": "ipython",
    "version": 3
   },
   "file_extension": ".py",
   "mimetype": "text/x-python",
   "name": "python",
   "nbconvert_exporter": "python",
   "pygments_lexer": "ipython3",
   "version": "3.12.4"
  }
 },
 "nbformat": 4,
 "nbformat_minor": 5
}
