{
 "cells": [
  {
   "cell_type": "code",
   "execution_count": 7,
   "id": "457973a9-e94a-405b-a21d-fb4fa2521102",
   "metadata": {},
   "outputs": [
    {
     "name": "stdout",
     "output_type": "stream",
     "text": [
      "Original ndarray:\n",
      "[[0.84114283 0.61615704 0.42682067 0.09392126 0.97843089]\n",
      " [0.48268701 0.17691994 0.96319695 0.57681276 0.60477989]\n",
      " [0.79325795 0.18443667 0.34954193 0.7980681  0.36716204]\n",
      " [0.543309   0.75115182 0.95363471 0.03192089 0.94239902]\n",
      " [0.03879343 0.06304986 0.76406417 0.44698926 0.81703505]]\n",
      "\n",
      "Normalized ndarray:\n",
      "[[ 0.95965501  0.23248268 -0.37946783 -1.45542574  1.40338115]\n",
      " [-0.1989033  -1.18716729  1.35414382  0.10531877  0.19571082]\n",
      " [ 0.8048872  -1.1628726  -0.629239    0.82043398 -0.57228937]\n",
      " [-0.00296809  0.66879677  1.32323789 -1.65581598  1.28692322]\n",
      " [-1.63360337 -1.55520462  0.71053051 -0.31428133  0.88173669]]\n"
     ]
    }
   ],
   "source": [
    "#Import the numpy file\n",
    "import numpy as np\n",
    "\n",
    "# Create a random 5x5 ndarray\n",
    "X = np.random.rand(5, 5)\n",
    "\n",
    "# Calculate the mean and standard deviation of the ndarray\n",
    "mean_X = X.mean()\n",
    "std_X = X.std()\n",
    "\n",
    "# Normalize the ndarray\n",
    "X_normal = (X - mean_X) / std_X\n",
    "\n",
    "# Save the normalized ndarray to a file\n",
    "np.save('X_normalized.npy', X_normal)\n",
    "\n",
    "#Example Output:\n",
    "print(\"Original ndarray:\")\n",
    "print(X)\n",
    "print(\"\\nNormalized ndarray:\")\n",
    "print(X_normal)"
   ]
  },
  {
   "cell_type": "code",
   "execution_count": null,
   "id": "e88f1d2e-f100-44d8-a457-86aa9ecdc4f8",
   "metadata": {},
   "outputs": [],
   "source": []
  }
 ],
 "metadata": {
  "kernelspec": {
   "display_name": "Python 3 (ipykernel)",
   "language": "python",
   "name": "python3"
  },
  "language_info": {
   "codemirror_mode": {
    "name": "ipython",
    "version": 3
   },
   "file_extension": ".py",
   "mimetype": "text/x-python",
   "name": "python",
   "nbconvert_exporter": "python",
   "pygments_lexer": "ipython3",
   "version": "3.12.4"
  }
 },
 "nbformat": 4,
 "nbformat_minor": 5
}
